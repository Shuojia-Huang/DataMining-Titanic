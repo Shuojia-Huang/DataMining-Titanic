{
 "cells": [
  {
   "cell_type": "markdown",
   "metadata": {},
   "source": [
    "# 实践\n",
    "我所做的问题为分类问题，数据集选用了kaggle平台titanic数据集，就是要得到一个比较好的分类模型来预测船员的生存情况"
   ]
  },
  {
   "cell_type": "code",
   "execution_count": 698,
   "metadata": {},
   "outputs": [],
   "source": [
    "#导入所需要的包\n",
    "# numpy和pandas是常用来存储数据的包\n",
    "import numpy as np\n",
    "import pandas as pd\n",
    "import seaborn as sns\n",
    "# matplotlib和seaborn是用来绘图的包\n",
    "import matplotlib.pyplot as plt\n",
    "# sklearn是机器学习的包，包含了数据挖掘过程的方方面面，很强大\n",
    "from sklearn.model_selection import train_test_split\n",
    "from sklearn.naive_bayes import GaussianNB\n",
    "import sklearn.feature_selection as SelectKBest\n",
    "from sklearn.base import BaseEstimator, TransformerMixin\n",
    "from sklearn.impute import SimpleImputer\n",
    "from sklearn.preprocessing import OneHotEncoder\n",
    "from sklearn.compose import ColumnTransformer\n",
    "from sklearn.pipeline import Pipeline\n",
    "from sklearn.ensemble import RandomForestClassifier\n",
    "from sklearn.model_selection import GridSearchCV\n",
    "import sklearn.tree as tree\n",
    "from sklearn.naive_bayes import GaussianNB"
   ]
  },
  {
   "cell_type": "markdown",
   "metadata": {},
   "source": [
    "## 数据导入"
   ]
  },
  {
   "cell_type": "code",
   "execution_count": 699,
   "metadata": {},
   "outputs": [],
   "source": [
    "# 用pandas读入csv数据返回DataFrame对象\n",
    "data = pd.read_csv('input/data.csv')\n",
    "# 将数据集纵向划分为输入输出，输出即Survived是否存活\n",
    "X, y = data.drop('Survived', axis=1),  data['Survived']\n",
    "# 将数据集进行横向划分，随机划分为训练集和测试集(划分比例7:3)\n",
    "X_train, X_test, y_train, y_test = train_test_split(X, y, test_size = 0.3, random_state = 7)\n",
    "# 重置索引，因为前面随机划分导致索引乱了\n",
    "X_train = X_train.reset_index(drop=True)\n",
    "y_train = y_train.reset_index(drop=True)\n",
    "X_test = X_test.reset_index(drop=True)\n",
    "y_test = y_test.reset_index(drop=True)"
   ]
  },
  {
   "cell_type": "markdown",
   "metadata": {},
   "source": [
    "## 数据观察"
   ]
  },
  {
   "cell_type": "markdown",
   "metadata": {},
   "source": [
    "### 整体观察"
   ]
  },
  {
   "cell_type": "code",
   "execution_count": 700,
   "metadata": {},
   "outputs": [
    {
     "data": {
      "text/html": [
       "<div>\n",
       "<style scoped>\n",
       "    .dataframe tbody tr th:only-of-type {\n",
       "        vertical-align: middle;\n",
       "    }\n",
       "\n",
       "    .dataframe tbody tr th {\n",
       "        vertical-align: top;\n",
       "    }\n",
       "\n",
       "    .dataframe thead th {\n",
       "        text-align: right;\n",
       "    }\n",
       "</style>\n",
       "<table border=\"1\" class=\"dataframe\">\n",
       "  <thead>\n",
       "    <tr style=\"text-align: right;\">\n",
       "      <th></th>\n",
       "      <th>PassengerId</th>\n",
       "      <th>Pclass</th>\n",
       "      <th>Name</th>\n",
       "      <th>Sex</th>\n",
       "      <th>Age</th>\n",
       "      <th>SibSp</th>\n",
       "      <th>Parch</th>\n",
       "      <th>Ticket</th>\n",
       "      <th>Fare</th>\n",
       "      <th>Cabin</th>\n",
       "      <th>Embarked</th>\n",
       "      <th>Survived</th>\n",
       "    </tr>\n",
       "  </thead>\n",
       "  <tbody>\n",
       "    <tr>\n",
       "      <th>0</th>\n",
       "      <td>193</td>\n",
       "      <td>3</td>\n",
       "      <td>Andersen-Jensen, Miss. Carla Christine Nielsine</td>\n",
       "      <td>female</td>\n",
       "      <td>19.0</td>\n",
       "      <td>1</td>\n",
       "      <td>0</td>\n",
       "      <td>350046</td>\n",
       "      <td>7.8542</td>\n",
       "      <td>NaN</td>\n",
       "      <td>S</td>\n",
       "      <td>1</td>\n",
       "    </tr>\n",
       "    <tr>\n",
       "      <th>1</th>\n",
       "      <td>192</td>\n",
       "      <td>2</td>\n",
       "      <td>Carbines, Mr. William</td>\n",
       "      <td>male</td>\n",
       "      <td>19.0</td>\n",
       "      <td>0</td>\n",
       "      <td>0</td>\n",
       "      <td>28424</td>\n",
       "      <td>13.0000</td>\n",
       "      <td>NaN</td>\n",
       "      <td>S</td>\n",
       "      <td>0</td>\n",
       "    </tr>\n",
       "    <tr>\n",
       "      <th>2</th>\n",
       "      <td>715</td>\n",
       "      <td>2</td>\n",
       "      <td>Greenberg, Mr. Samuel</td>\n",
       "      <td>male</td>\n",
       "      <td>52.0</td>\n",
       "      <td>0</td>\n",
       "      <td>0</td>\n",
       "      <td>250647</td>\n",
       "      <td>13.0000</td>\n",
       "      <td>NaN</td>\n",
       "      <td>S</td>\n",
       "      <td>0</td>\n",
       "    </tr>\n",
       "    <tr>\n",
       "      <th>3</th>\n",
       "      <td>533</td>\n",
       "      <td>3</td>\n",
       "      <td>Elias, Mr. Joseph Jr</td>\n",
       "      <td>male</td>\n",
       "      <td>17.0</td>\n",
       "      <td>1</td>\n",
       "      <td>1</td>\n",
       "      <td>2690</td>\n",
       "      <td>7.2292</td>\n",
       "      <td>NaN</td>\n",
       "      <td>C</td>\n",
       "      <td>0</td>\n",
       "    </tr>\n",
       "    <tr>\n",
       "      <th>4</th>\n",
       "      <td>133</td>\n",
       "      <td>3</td>\n",
       "      <td>Robins, Mrs. Alexander A (Grace Charity Laury)</td>\n",
       "      <td>female</td>\n",
       "      <td>47.0</td>\n",
       "      <td>1</td>\n",
       "      <td>0</td>\n",
       "      <td>A/5. 3337</td>\n",
       "      <td>14.5000</td>\n",
       "      <td>NaN</td>\n",
       "      <td>S</td>\n",
       "      <td>0</td>\n",
       "    </tr>\n",
       "  </tbody>\n",
       "</table>\n",
       "</div>"
      ],
      "text/plain": [
       "   PassengerId  Pclass                                             Name  \\\n",
       "0          193       3  Andersen-Jensen, Miss. Carla Christine Nielsine   \n",
       "1          192       2                            Carbines, Mr. William   \n",
       "2          715       2                            Greenberg, Mr. Samuel   \n",
       "3          533       3                             Elias, Mr. Joseph Jr   \n",
       "4          133       3   Robins, Mrs. Alexander A (Grace Charity Laury)   \n",
       "\n",
       "      Sex   Age  SibSp  Parch     Ticket     Fare Cabin Embarked  Survived  \n",
       "0  female  19.0      1      0     350046   7.8542   NaN        S         1  \n",
       "1    male  19.0      0      0      28424  13.0000   NaN        S         0  \n",
       "2    male  52.0      0      0     250647  13.0000   NaN        S         0  \n",
       "3    male  17.0      1      1       2690   7.2292   NaN        C         0  \n",
       "4  female  47.0      1      0  A/5. 3337  14.5000   NaN        S         0  "
      ]
     },
     "execution_count": 700,
     "metadata": {},
     "output_type": "execute_result"
    }
   ],
   "source": [
    "'''用pandas中的concat函数将训练集的输入输出合并为一个数据，\n",
    "axis=0 是行合并、axis=1为列合并～\n",
    "'''\n",
    "train = pd.concat([X_train, y_train], axis=1)\n",
    "# 观察训练集的前5个数据\n",
    "train.head()"
   ]
  },
  {
   "cell_type": "markdown",
   "metadata": {},
   "source": [
    "通过对测试集的观察我们发现数据上的一些问题：\n",
    "PassengerId和Name是没有用的特征，所以删除; Ticket是票编号，种类特别多，后面不好处理，于是我们把它变成票编号共用数(同一个票编号可以被多个人共用); Cabin是客舱等级(字母+数字，例如C85)，后面的数字觉得没有意义，就把数字部分除去了。\n",
    "最后我把特征处理变成一个处理器～"
   ]
  },
  {
   "cell_type": "code",
   "execution_count": 701,
   "metadata": {},
   "outputs": [],
   "source": [
    "# 特征转换器（对特征的删除、更改等处理封装成一个处理器）\n",
    "class FeatureProcessor(BaseEstimator, TransformerMixin):\n",
    "    def fit(self, X, y=None):\n",
    "        return self\n",
    "    def transform(self, X, y=None):\n",
    "        X = X.copy(deep=True)\n",
    "        # 乘客id无意义，删除PassengerId\n",
    "        X.drop('PassengerId',  axis=1, inplace=True)\n",
    "        # Ticket更改数据\n",
    "        Ticket_Count = dict(X['Ticket'].value_counts())\n",
    "        X['Ticket'] = X['Ticket'].apply(lambda s: Ticket_Count[s] if s == s else np.nan)\n",
    "        # Cabin 去掉后面的数值\n",
    "        X['Cabin'] = X['Cabin'].apply(lambda s: s[0] if s==s else np.nan)\n",
    "        # Name无意义，删除\n",
    "        X.drop('Name', axis=1, inplace=True)\n",
    "        return X\n",
    "#用特征处理器处理\n",
    "X_train_ = FeatureProcessor().fit_transform(X_train)"
   ]
  },
  {
   "cell_type": "code",
   "execution_count": 702,
   "metadata": {},
   "outputs": [
    {
     "data": {
      "text/html": [
       "<div>\n",
       "<style scoped>\n",
       "    .dataframe tbody tr th:only-of-type {\n",
       "        vertical-align: middle;\n",
       "    }\n",
       "\n",
       "    .dataframe tbody tr th {\n",
       "        vertical-align: top;\n",
       "    }\n",
       "\n",
       "    .dataframe thead th {\n",
       "        text-align: right;\n",
       "    }\n",
       "</style>\n",
       "<table border=\"1\" class=\"dataframe\">\n",
       "  <thead>\n",
       "    <tr style=\"text-align: right;\">\n",
       "      <th></th>\n",
       "      <th>Pclass</th>\n",
       "      <th>Sex</th>\n",
       "      <th>Age</th>\n",
       "      <th>SibSp</th>\n",
       "      <th>Parch</th>\n",
       "      <th>Ticket</th>\n",
       "      <th>Fare</th>\n",
       "      <th>Cabin</th>\n",
       "      <th>Embarked</th>\n",
       "      <th>Survived</th>\n",
       "    </tr>\n",
       "  </thead>\n",
       "  <tbody>\n",
       "    <tr>\n",
       "      <th>0</th>\n",
       "      <td>3</td>\n",
       "      <td>female</td>\n",
       "      <td>19.0</td>\n",
       "      <td>1</td>\n",
       "      <td>0</td>\n",
       "      <td>1</td>\n",
       "      <td>7.8542</td>\n",
       "      <td>NaN</td>\n",
       "      <td>S</td>\n",
       "      <td>1</td>\n",
       "    </tr>\n",
       "    <tr>\n",
       "      <th>1</th>\n",
       "      <td>2</td>\n",
       "      <td>male</td>\n",
       "      <td>19.0</td>\n",
       "      <td>0</td>\n",
       "      <td>0</td>\n",
       "      <td>1</td>\n",
       "      <td>13.0000</td>\n",
       "      <td>NaN</td>\n",
       "      <td>S</td>\n",
       "      <td>0</td>\n",
       "    </tr>\n",
       "    <tr>\n",
       "      <th>2</th>\n",
       "      <td>2</td>\n",
       "      <td>male</td>\n",
       "      <td>52.0</td>\n",
       "      <td>0</td>\n",
       "      <td>0</td>\n",
       "      <td>2</td>\n",
       "      <td>13.0000</td>\n",
       "      <td>NaN</td>\n",
       "      <td>S</td>\n",
       "      <td>0</td>\n",
       "    </tr>\n",
       "    <tr>\n",
       "      <th>3</th>\n",
       "      <td>3</td>\n",
       "      <td>male</td>\n",
       "      <td>17.0</td>\n",
       "      <td>1</td>\n",
       "      <td>1</td>\n",
       "      <td>1</td>\n",
       "      <td>7.2292</td>\n",
       "      <td>NaN</td>\n",
       "      <td>C</td>\n",
       "      <td>0</td>\n",
       "    </tr>\n",
       "    <tr>\n",
       "      <th>4</th>\n",
       "      <td>3</td>\n",
       "      <td>female</td>\n",
       "      <td>47.0</td>\n",
       "      <td>1</td>\n",
       "      <td>0</td>\n",
       "      <td>1</td>\n",
       "      <td>14.5000</td>\n",
       "      <td>NaN</td>\n",
       "      <td>S</td>\n",
       "      <td>0</td>\n",
       "    </tr>\n",
       "  </tbody>\n",
       "</table>\n",
       "</div>"
      ],
      "text/plain": [
       "   Pclass     Sex   Age  SibSp  Parch  Ticket     Fare Cabin Embarked  \\\n",
       "0       3  female  19.0      1      0       1   7.8542   NaN        S   \n",
       "1       2    male  19.0      0      0       1  13.0000   NaN        S   \n",
       "2       2    male  52.0      0      0       2  13.0000   NaN        S   \n",
       "3       3    male  17.0      1      1       1   7.2292   NaN        C   \n",
       "4       3  female  47.0      1      0       1  14.5000   NaN        S   \n",
       "\n",
       "   Survived  \n",
       "0         1  \n",
       "1         0  \n",
       "2         0  \n",
       "3         0  \n",
       "4         0  "
      ]
     },
     "execution_count": 702,
     "metadata": {},
     "output_type": "execute_result"
    }
   ],
   "source": [
    "# 处理完后的训练集\n",
    "train = pd.concat([X_train_, y_train], axis=1)\n",
    "train.head()"
   ]
  },
  {
   "cell_type": "markdown",
   "metadata": {},
   "source": [
    "因变量\n",
    "Survived：存活与否\n",
    "自变量\n",
    "Pclass: 客舱等级\n",
    "Sex: 性别\n",
    "Age: 年龄\n",
    "Parch: 直系亲友数\n",
    "SibSp: 旁系亲友数\n",
    "Ticket: 票编号共用数\n",
    "Fare: 票价\n",
    "Cabin: 客舱等级\n",
    "Embarked: 上船的港口编号"
   ]
  },
  {
   "cell_type": "markdown",
   "metadata": {},
   "source": [
    "### 观察每个x和y之间的关系\n",
    " &emsp; 自变量x可以分成两类：非数值变量和数值变量，非数值变量使用条行图barplot，数值变量使用箱图boxplot。\n",
    " \n",
    "自变量类型|自变量集合|使用的函数\n",
    "-|-|-\n",
    "非数值变量|Pclass、Sex、Parch、SibSp、Ticket、Cabin、Embarked|barplot\n",
    "数值变量|Age、Fare|boxplot\n",
    "\n",
    "(1)首先是客舱等级和Survived的关系，我们可以看等级越高，存活率越高"
   ]
  },
  {
   "cell_type": "code",
   "execution_count": 703,
   "metadata": {},
   "outputs": [
    {
     "data": {
      "text/plain": [
       "<AxesSubplot:xlabel='Pclass', ylabel='Survived'>"
      ]
     },
     "execution_count": 703,
     "metadata": {},
     "output_type": "execute_result"
    },
    {
     "data": {
      "image/png": "[encoded data removed]",
      "text/plain": [
       "<Figure size 432x288 with 1 Axes>"
      ]
     },
     "metadata": {
      "needs_background": "light"
     },
     "output_type": "display_data"
    }
   ],
   "source": [
    "# Pclass 客舱等级\n",
    "sns.barplot(x='Pclass', y='Survived', data=train)"
   ]
  },
  {
   "cell_type": "markdown",
   "metadata": {},
   "source": [
    "(2)然后是性别和存活率的关系，我们可以看到女性的存活率远远高于男性"
   ]
  },
  {
   "cell_type": "code",
   "execution_count": 704,
   "metadata": {},
   "outputs": [
    {
     "data": {
      "text/plain": [
       "<AxesSubplot:xlabel='Sex', ylabel='Survived'>"
      ]
     },
     "execution_count": 704,
     "metadata": {},
     "output_type": "execute_result"
    },
    {
     "data": {
      "image/png": "[encoded data removed]",
      "text/plain": [
       "<Figure size 432x288 with 1 Axes>"
      ]
     },
     "metadata": {
      "needs_background": "light"
     },
     "output_type": "display_data"
    }
   ],
   "source": [
    "# Sex\n",
    "sns.barplot(x='Sex', y='Survived', data=train)"
   ]
  },
  {
   "cell_type": "markdown",
   "metadata": {},
   "source": [
    "(3)接着是年龄和存货率的关系，存活的人中会相对更年轻些"
   ]
  },
  {
   "cell_type": "code",
   "execution_count": 705,
   "metadata": {},
   "outputs": [
    {
     "data": {
      "text/plain": [
       "<AxesSubplot:xlabel='Survived', ylabel='Age'>"
      ]
     },
     "execution_count": 705,
     "metadata": {},
     "output_type": "execute_result"
    },
    {
     "data": {
      "image/png": "[encoded data removed]",
      "text/plain": [
       "<Figure size 432x288 with 1 Axes>"
      ]
     },
     "metadata": {
      "needs_background": "light"
     },
     "output_type": "display_data"
    }
   ],
   "source": [
    "# Age 年龄\n",
    "sns.boxplot(x='Survived', y='Age', data=train)"
   ]
  },
  {
   "cell_type": "markdown",
   "metadata": {},
   "source": [
    "(4)然后是直系亲友数和存活率的关系，有直系亲友的存活率更高"
   ]
  },
  {
   "cell_type": "code",
   "execution_count": 706,
   "metadata": {},
   "outputs": [
    {
     "data": {
      "text/plain": [
       "<AxesSubplot:xlabel='Parch', ylabel='Survived'>"
      ]
     },
     "execution_count": 706,
     "metadata": {},
     "output_type": "execute_result"
    },
    {
     "data": {
      "image/png": "[encoded data removed]",
      "text/plain": [
       "<Figure size 432x288 with 1 Axes>"
      ]
     },
     "metadata": {
      "needs_background": "light"
     },
     "output_type": "display_data"
    }
   ],
   "source": [
    "# Parch: 直系亲友数\n",
    "sns.barplot(x='Parch', y='Survived', data=train)"
   ]
  },
  {
   "cell_type": "markdown",
   "metadata": {},
   "source": [
    "(5)接着是旁系亲友数和存活率的关系，可以看到旁系亲友数过高放而不利于存活"
   ]
  },
  {
   "cell_type": "code",
   "execution_count": 707,
   "metadata": {},
   "outputs": [
    {
     "data": {
      "text/plain": [
       "<AxesSubplot:xlabel='SibSp', ylabel='Survived'>"
      ]
     },
     "execution_count": 707,
     "metadata": {},
     "output_type": "execute_result"
    },
    {
     "data": {
      "image/png": "[encoded data removed]",
      "text/plain": [
       "<Figure size 432x288 with 1 Axes>"
      ]
     },
     "metadata": {
      "needs_background": "light"
     },
     "output_type": "display_data"
    }
   ],
   "source": [
    "# SibSp: 旁系亲友数\n",
    "sns.barplot(x='SibSp', y='Survived', data=train)"
   ]
  },
  {
   "cell_type": "markdown",
   "metadata": {},
   "source": [
    "(6)然后是票编号共用数和存活率的关系，可以看到共用数2、3存货率较高"
   ]
  },
  {
   "cell_type": "code",
   "execution_count": 708,
   "metadata": {},
   "outputs": [
    {
     "data": {
      "text/plain": [
       "<AxesSubplot:xlabel='Ticket', ylabel='Survived'>"
      ]
     },
     "execution_count": 708,
     "metadata": {},
     "output_type": "execute_result"
    },
    {
     "data": {
      "image/png": "[encoded data removed]",
      "text/plain": [
       "<Figure size 432x288 with 1 Axes>"
      ]
     },
     "metadata": {
      "needs_background": "light"
     },
     "output_type": "display_data"
    }
   ],
   "source": [
    "# Ticket: 票编号共用数\n",
    "sns.barplot(x='Ticket', y='Survived', data=train)"
   ]
  },
  {
   "cell_type": "markdown",
   "metadata": {},
   "source": [
    "(7)票价和存活率的关系，票价越高，存货率也越高"
   ]
  },
  {
   "cell_type": "code",
   "execution_count": 709,
   "metadata": {},
   "outputs": [
    {
     "data": {
      "text/plain": [
       "<AxesSubplot:xlabel='Survived', ylabel='Fare'>"
      ]
     },
     "execution_count": 709,
     "metadata": {},
     "output_type": "execute_result"
    },
    {
     "data": {
      "image/png": "[encoded data removed]",
      "text/plain": [
       "<Figure size 432x288 with 1 Axes>"
      ]
     },
     "metadata": {
      "needs_background": "light"
     },
     "output_type": "display_data"
    }
   ],
   "source": [
    "# Fare: 票价\n",
    "sns.boxplot(x='Survived', y='Fare', data=train)"
   ]
  },
  {
   "cell_type": "markdown",
   "metadata": {},
   "source": [
    "(8)客舱等级和存活率关系，可以看的A存活率最低，G存活率最高，其他差不多"
   ]
  },
  {
   "cell_type": "code",
   "execution_count": 710,
   "metadata": {},
   "outputs": [
    {
     "data": {
      "text/plain": [
       "<AxesSubplot:xlabel='Cabin', ylabel='Survived'>"
      ]
     },
     "execution_count": 710,
     "metadata": {},
     "output_type": "execute_result"
    },
    {
     "data": {
      "image/png": "[encoded data removed]",
      "text/plain": [
       "<Figure size 432x288 with 1 Axes>"
      ]
     },
     "metadata": {
      "needs_background": "light"
     },
     "output_type": "display_data"
    }
   ],
   "source": [
    "# Cabin: 客舱等级\n",
    "sns.barplot(x='Cabin', y='Survived', data=train)"
   ]
  },
  {
   "cell_type": "markdown",
   "metadata": {},
   "source": [
    "(9)上船的港口编号和存货率的关系，可以看的C港口存活率最高"
   ]
  },
  {
   "cell_type": "code",
   "execution_count": 711,
   "metadata": {},
   "outputs": [
    {
     "data": {
      "text/plain": [
       "<AxesSubplot:xlabel='Embarked', ylabel='Survived'>"
      ]
     },
     "execution_count": 711,
     "metadata": {},
     "output_type": "execute_result"
    },
    {
     "data": {
      "image/png": "[encoded data removed]",
      "text/plain": [
       "<Figure size 432x288 with 1 Axes>"
      ]
     },
     "metadata": {
      "needs_background": "light"
     },
     "output_type": "display_data"
    }
   ],
   "source": [
    "# Embarked: 上船的港口编号\n",
    "sns.barplot(x='Embarked', y='Survived', data=train)"
   ]
  },
  {
   "cell_type": "markdown",
   "metadata": {},
   "source": [
    "## 数据预处理"
   ]
  },
  {
   "cell_type": "markdown",
   "metadata": {},
   "source": [
    "### 缺失值处理\n",
    "&emsp; 这里我使用sklearn提供的缺失值处理器通过填补众数的方式来处理缺失值，之所以我定义了numpy对象转DataFrame对象转换器，是因为sklearn提供的处理器都输出的都是numpy对象，即使你的输入是pandas对象，而pandas对象中特征信息在后面处理还需要用到，所以需要重新变回pandas对象\n",
    "\n",
    "&emsp; 这里我使用了Pipeline管道这个概念，它可以把n个转换器[+ 评估器]连接起来～"
   ]
  },
  {
   "cell_type": "code",
   "execution_count": 712,
   "metadata": {},
   "outputs": [
    {
     "name": "stdout",
     "output_type": "stream",
     "text": [
      "Pclass      0\n",
      "Sex         0\n",
      "Age         0\n",
      "SibSp       0\n",
      "Parch       0\n",
      "Ticket      0\n",
      "Fare        0\n",
      "Cabin       0\n",
      "Embarked    0\n",
      "dtype: int64\n"
     ]
    }
   ],
   "source": [
    "features = X_train_.columns.values #提取输入特征\n",
    "\n",
    "#自定义numpy对象转DataFrame对象转换器\n",
    "class NdarrayToDataframe(BaseEstimator, TransformerMixin):\n",
    "    def __init__(self, features):\n",
    "        self.features = features\n",
    "        \n",
    "    def fit(self, X, y=None):\n",
    "        return self\n",
    "    \n",
    "    def transform(self, X, y=None):\n",
    "        return pd.DataFrame(X, columns=self.features)\n",
    "\n",
    "#缺失值处理器(用众数填补缺失值)\n",
    "missingProcessor = Pipeline(steps=[\n",
    "    ('simpleImputer', SimpleImputer(strategy='most_frequent')),\n",
    "    ('ntod', NdarrayToDataframe(features))\n",
    "])\n",
    "\n",
    "#用缺失值处理器处理X_train\n",
    "X_train_ = missingProcessor.fit_transform(X_train_)\n",
    "print(X_train_.isnull().sum())"
   ]
  },
  {
   "cell_type": "markdown",
   "metadata": {},
   "source": [
    "### 特征编码"
   ]
  },
  {
   "cell_type": "code",
   "execution_count": 713,
   "metadata": {},
   "outputs": [
    {
     "data": {
      "text/html": [
       "<div>\n",
       "<style scoped>\n",
       "    .dataframe tbody tr th:only-of-type {\n",
       "        vertical-align: middle;\n",
       "    }\n",
       "\n",
       "    .dataframe tbody tr th {\n",
       "        vertical-align: top;\n",
       "    }\n",
       "\n",
       "    .dataframe thead th {\n",
       "        text-align: right;\n",
       "    }\n",
       "</style>\n",
       "<table border=\"1\" class=\"dataframe\">\n",
       "  <thead>\n",
       "    <tr style=\"text-align: right;\">\n",
       "      <th></th>\n",
       "      <th>Pclass</th>\n",
       "      <th>Sex</th>\n",
       "      <th>Age</th>\n",
       "      <th>SibSp</th>\n",
       "      <th>Parch</th>\n",
       "      <th>Ticket</th>\n",
       "      <th>Fare</th>\n",
       "      <th>Cabin</th>\n",
       "      <th>Embarked</th>\n",
       "    </tr>\n",
       "  </thead>\n",
       "  <tbody>\n",
       "    <tr>\n",
       "      <th>0</th>\n",
       "      <td>3</td>\n",
       "      <td>0</td>\n",
       "      <td>19</td>\n",
       "      <td>1</td>\n",
       "      <td>0</td>\n",
       "      <td>1</td>\n",
       "      <td>7.8542</td>\n",
       "      <td>2</td>\n",
       "      <td>2</td>\n",
       "    </tr>\n",
       "    <tr>\n",
       "      <th>1</th>\n",
       "      <td>2</td>\n",
       "      <td>1</td>\n",
       "      <td>19</td>\n",
       "      <td>0</td>\n",
       "      <td>0</td>\n",
       "      <td>1</td>\n",
       "      <td>13</td>\n",
       "      <td>2</td>\n",
       "      <td>2</td>\n",
       "    </tr>\n",
       "    <tr>\n",
       "      <th>2</th>\n",
       "      <td>2</td>\n",
       "      <td>1</td>\n",
       "      <td>52</td>\n",
       "      <td>0</td>\n",
       "      <td>0</td>\n",
       "      <td>2</td>\n",
       "      <td>13</td>\n",
       "      <td>2</td>\n",
       "      <td>2</td>\n",
       "    </tr>\n",
       "    <tr>\n",
       "      <th>3</th>\n",
       "      <td>3</td>\n",
       "      <td>1</td>\n",
       "      <td>17</td>\n",
       "      <td>1</td>\n",
       "      <td>1</td>\n",
       "      <td>1</td>\n",
       "      <td>7.2292</td>\n",
       "      <td>2</td>\n",
       "      <td>0</td>\n",
       "    </tr>\n",
       "    <tr>\n",
       "      <th>4</th>\n",
       "      <td>3</td>\n",
       "      <td>0</td>\n",
       "      <td>47</td>\n",
       "      <td>1</td>\n",
       "      <td>0</td>\n",
       "      <td>1</td>\n",
       "      <td>14.5</td>\n",
       "      <td>2</td>\n",
       "      <td>2</td>\n",
       "    </tr>\n",
       "  </tbody>\n",
       "</table>\n",
       "</div>"
      ],
      "text/plain": [
       "  Pclass  Sex Age SibSp Parch Ticket    Fare  Cabin  Embarked\n",
       "0      3    0  19     1     0      1  7.8542      2         2\n",
       "1      2    1  19     0     0      1      13      2         2\n",
       "2      2    1  52     0     0      2      13      2         2\n",
       "3      3    1  17     1     1      1  7.2292      2         0\n",
       "4      3    0  47     1     0      1    14.5      2         2"
      ]
     },
     "execution_count": 713,
     "metadata": {},
     "output_type": "execute_result"
    }
   ],
   "source": [
    "class MyLabelEncoder:\n",
    "    def __init__(self, columns = None):\n",
    "        self.columns = columns # array of column names to encode\n",
    "        self.labelEncoders = []\n",
    "        for i in range(len(self.columns)):\n",
    "            self.labelEncoders.append(LabelEncoder())\n",
    "    def fit(self,X,y=None):\n",
    "        for i in range(len(self.columns)):\n",
    "            self.labelEncoders[i].fit(X[self.columns[i]])\n",
    "        return self # not relevant here\n",
    "\n",
    "    def transform(self,X, y=None):\n",
    "        '''\n",
    "        Transforms columns of X specified in self.columns using\n",
    "        LabelEncoder(). If no columns specified, transforms all\n",
    "        columns in X.\n",
    "        '''\n",
    "        X = X.copy()\n",
    "        for i in range(len(self.columns)):\n",
    "            X[self.columns[i]] = self.labelEncoders[i].transform(X[self.columns[i]])\n",
    "        return X\n",
    "\n",
    "    def fit_transform(self,X,y=None):\n",
    "        return self.fit(X,y).transform(X)\n",
    "    \n",
    "#特征划分\n",
    "categorical_features = ['Sex', 'Cabin', 'Embarked'] #标签变量\n",
    "encoderProcessor = MyLabelEncoder(categorical_features)\n",
    "#对数据进行编码\n",
    "X_train_ = encoderProcessor.fit_transform(X_train_)\n",
    "X_train_.head()"
   ]
  },
  {
   "cell_type": "markdown",
   "metadata": {},
   "source": [
    "## 模型建立、选择、训练\n",
    "&emsp; 模型使用sklearn上的估计器\n",
    "\n",
    "&emsp; 估计器是sklearn提供的应一个强大的类，它封装了某个模型，比如决策树模型、贝叶斯模型，使用者可以创建估计器对象创建模型，调用fit方法训练模型，调用predict或者predict_proba来预测结果。"
   ]
  },
  {
   "cell_type": "markdown",
   "metadata": {},
   "source": [
    "### 决策树"
   ]
  },
  {
   "cell_type": "code",
   "execution_count": 714,
   "metadata": {
    "scrolled": true
   },
   "outputs": [
    {
     "ename": "IndentationError",
     "evalue": "unexpected indent (<ipython-input-714-c8234638d25d>, line 11)",
     "output_type": "error",
     "traceback": [
      "\u001b[0;36m  File \u001b[0;32m\"<ipython-input-714-c8234638d25d>\"\u001b[0;36m, line \u001b[0;32m11\u001b[0m\n\u001b[0;31m    '''\u001b[0m\n\u001b[0m    ^\u001b[0m\n\u001b[0;31mIndentationError\u001b[0m\u001b[0;31m:\u001b[0m unexpected indent\n"
     ]
    }
   ],
   "source": [
    "# 模型建立\n",
    "clf_tree = tree.DecisionTreeClassifier()\n",
    "# 模型选择\n",
    "  #超参数的取值范围\n",
    "param_grid ={          \n",
    "    'criterion': ['entropy', 'gini'],\n",
    "    'max_depth':[2,3,4,5,6,7,8],\n",
    "    'min_samples_split': [4, 8, 12, 16, 20,24, 28]\n",
    "}\n",
    "  #使用网格调参处理器来找到模型的最友超参数\n",
    "    '''\n",
    "    参数：\n",
    "      estimator 为处理模型\n",
    "      param_grib为要处理的超参数以及取值范围\n",
    "      scoring 为评估函数\n",
    "      cv 为交叉验证折数\n",
    "    '''\n",
    "gscv = GridSearchCV(estimator=clf_tree, param_grid=param_grid,\n",
    "                   scoring='roc_auc', cv=4)\n",
    "gscv.fit(X_train_, y_train)\n",
    "print(gscv.best_params_, gscv.best_score_)"
   ]
  },
  {
   "cell_type": "code",
   "execution_count": 715,
   "metadata": {},
   "outputs": [],
   "source": [
    "'''\n",
    "整合最终的树模型\n",
    "因为下面的模型评估中需要对测试集做与训练集相同的特征处理、缺失值\n",
    "处理，编码处理、评估器训练，所以我将上面处理器的封装起来，再用管道将它们\n",
    "封装起来，使其流水线化\n",
    "'''\n",
    "#特征转换器\n",
    "featureProcessor = FeatureProcessor() \n",
    "#缺失值转换器\n",
    "missingProcessor = Pipeline(steps=[\n",
    "    ('simpleImputer', SimpleImputer(strategy='most_frequent')),\n",
    "    ('ntod', NdarrayToDataframe(features))\n",
    "])\n",
    "#编码转换器\n",
    "encoderProcessor = MyLabelEncoder(categorical_features)\n",
    "#最终的决策树估计器\n",
    "clf_tree = tree.DecisionTreeClassifier(criterion='entropy',max_depth = 3,\n",
    "                                      min_samples_split=4)\n",
    "#形成流水线\n",
    "pipeline_tree = Pipeline(steps=[\n",
    "    ('featureProcessor', featureProcessor),\n",
    "    ('missingProcessor', missingProcessor),\n",
    "    ('encoderProcessor', encoderProcessor),\n",
    "    ('clf_tree', clf_tree)\n",
    "]) "
   ]
  },
  {
   "cell_type": "markdown",
   "metadata": {},
   "source": [
    "### 高斯贝叶斯分类器"
   ]
  },
  {
   "cell_type": "code",
   "execution_count": 716,
   "metadata": {},
   "outputs": [],
   "source": [
    "# 模型建立\n",
    "clf_bayes = GaussianNB()\n",
    "#模型选择(因为该估计器没有超参数，所以就不需要模型选择)"
   ]
  },
  {
   "cell_type": "code",
   "execution_count": 717,
   "metadata": {},
   "outputs": [],
   "source": [
    "'''\n",
    "整合最终的贝叶斯模型\n",
    "'''\n",
    "#特征转换器\n",
    "featureProcessor = FeatureProcessor() \n",
    "#缺失值转换器\n",
    "missingProcessor = Pipeline(steps=[\n",
    "    ('simpleImputer', SimpleImputer(strategy='most_frequent')),\n",
    "    ('ntod', NdarrayToDataframe(features))\n",
    "]) \n",
    "#编码转换器\n",
    "encoderProcessor = MyLabelEncoder(categorical_features)\n",
    "#最终的贝叶斯估计器\n",
    "clf_bayes = GaussianNB()\n",
    "#形成流水线\n",
    "pipeline_bayes = Pipeline(steps=[\n",
    "    ('featureProcessor', featureProcessor),\n",
    "    ('missingProcessor', missingProcessor),\n",
    "    ('encoderProcessor', encoderProcessor),\n",
    "    ('clf_bayes', clf_bayes)\n",
    "]) "
   ]
  },
  {
   "cell_type": "markdown",
   "metadata": {},
   "source": [
    "## 模型评估\n",
    "&emsp; 使用ROC曲线对模型进行评估——ROC曲线的AUC值越大，则模型越好"
   ]
  },
  {
   "cell_type": "code",
   "execution_count": 718,
   "metadata": {
    "scrolled": true
   },
   "outputs": [],
   "source": [
    "#训练两个模型并得到预测结果\n",
    "pipeline_tree.fit(X_train, y_train)\n",
    "y_test_proba_tree = pipeline_tree.predict_proba(X_test)\n",
    "\n",
    "pipeline_bayes.fit(X_train, y_train)\n",
    "y_test_proba_bayes = pipeline_bayes.predict_proba(X_test)\n",
    "\n",
    "#取得两个模型的存活率预测结果\n",
    "y_scores_tree = y_test_proba_tree[:, 1]\n",
    "y_scores_bayes = y_test_proba_bayes[:, 1]"
   ]
  },
  {
   "cell_type": "markdown",
   "metadata": {},
   "source": [
    "### 评估决策树模型"
   ]
  },
  {
   "cell_type": "code",
   "execution_count": 719,
   "metadata": {},
   "outputs": [
    {
     "data": {
      "image/png": "[encoded data removed]",
      "text/plain": [
       "<Figure size 432x288 with 1 Axes>"
      ]
     },
     "metadata": {
      "needs_background": "light"
     },
     "output_type": "display_data"
    }
   ],
   "source": [
    "#计算真阳率、假阳率、auc值\n",
    "fpr, tpr, thresholds = roc_curve(y_test, y_scores_tree, pos_label=1) \n",
    "auc_value = auc(fpr, tpr)\n",
    "#绘制图像\n",
    "plt.figure()\n",
    "lw = 2\n",
    "plt.plot(fpr, tpr, color='darkorange',\n",
    "         lw=lw, label='ROC curve (area = %0.2f)' % auc_value)\n",
    "plt.plot([0, 1], [0, 1], color='navy', lw=lw, linestyle='--')\n",
    "plt.xlim([0.0, 1.0])\n",
    "plt.ylim([0.0, 1.05])\n",
    "plt.xlabel('False Positive Rate')\n",
    "plt.ylabel('True Positive Rate')\n",
    "plt.title('Receiver operating characteristic of tree')\n",
    "plt.legend(loc=\"lower right\")\n",
    "plt.show()"
   ]
  },
  {
   "cell_type": "markdown",
   "metadata": {},
   "source": [
    "### 评估贝叶斯模型"
   ]
  },
  {
   "cell_type": "code",
   "execution_count": 720,
   "metadata": {},
   "outputs": [
    {
     "data": {
      "image/png": "[encoded data removed]",
      "text/plain": [
       "<Figure size 432x288 with 1 Axes>"
      ]
     },
     "metadata": {
      "needs_background": "light"
     },
     "output_type": "display_data"
    }
   ],
   "source": [
    "#评估bayes模型\n",
    "#计算真阳率、假阳率、auc值\n",
    "fpr, tpr, thresholds = roc_curve(y_test, y_scores_bayes, pos_label=1)\n",
    "auc_value = auc(fpr, tpr)\n",
    "#绘制图像\n",
    "plt.figure()\n",
    "lw = 2\n",
    "plt.plot(fpr, tpr, color='darkorange',\n",
    "         lw=lw, label='ROC curve (area = %0.2f)' % auc_value)\n",
    "plt.plot([0, 1], [0, 1], color='navy', lw=lw, linestyle='--')\n",
    "plt.xlim([0.0, 1.0])\n",
    "plt.ylim([0.0, 1.05])\n",
    "plt.xlabel('False Positive Rate')\n",
    "plt.ylabel('True Positive Rate')\n",
    "plt.title('Receiver operating characteristic of bayes')\n",
    "plt.legend(loc=\"lower right\")\n",
    "plt.show()"
   ]
  },
  {
   "cell_type": "markdown",
   "metadata": {},
   "source": [
    "可以从运行结果，可以看出，决策树模型优于高斯贝叶斯模型"
   ]
  },
  {
   "cell_type": "markdown",
   "metadata": {},
   "source": [
    "## 模型可视化"
   ]
  },
  {
   "cell_type": "code",
   "execution_count": 721,
   "metadata": {},
   "outputs": [],
   "source": [
    "#可视化决策树,图片保存于当前目录下的ouput/tree.png中\n",
    "dot_data = tree.export_graphviz(\n",
    "    pipeline_tree['clf_tree'], \n",
    "    out_file=None, \n",
    "    feature_names=features,\n",
    "    max_depth=3,\n",
    "    class_names=['0','1'],\n",
    "    filled=True\n",
    ") \n",
    "            \n",
    "graph = pydotplus.graph_from_dot_data(dot_data)  \n",
    "Image(graph.create_png()) \n",
    "f = open('output/tree.png', 'wb')\n",
    "f.close()\n",
    "with open('output/tree.png', 'wb') as f:\n",
    "    f.write(graph.create_png())"
   ]
  },
  {
   "cell_type": "markdown",
   "metadata": {},
   "source": [
    "![决策书可视化](output/tree.png)"
   ]
  }
 ],
 "metadata": {
  "kernelspec": {
   "display_name": "Python 3",
   "language": "python",
   "name": "python3"
  },
  "language_info": {
   "codemirror_mode": {
    "name": "ipython",
    "version": 3
   },
   "file_extension": ".py",
   "mimetype": "text/x-python",
   "name": "python",
   "nbconvert_exporter": "python",
   "pygments_lexer": "ipython3",
   "version": "3.8.6"
  }
 },
 "nbformat": 4,
 "nbformat_minor": 4
}
