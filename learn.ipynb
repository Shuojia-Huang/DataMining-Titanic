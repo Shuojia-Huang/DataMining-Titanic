{
 "cells": [
  {
   "cell_type": "markdown",
   "metadata": {},
   "source": [
    "# 学习\n",
    "用来记录在建立模型中，所需要的知识点"
   ]
  },
  {
   "cell_type": "markdown",
   "metadata": {},
   "source": [
    "## pandas 知识点"
   ]
  },
  {
   "cell_type": "markdown",
   "metadata": {},
   "source": [
    "### concat函数\n",
    "该函数用于DataFrame对象的链接，下面举具体的例子"
   ]
  },
  {
   "cell_type": "code",
   "execution_count": 2,
   "metadata": {},
   "outputs": [
    {
     "name": "stdout",
     "output_type": "stream",
     "text": [
      "df1=\n",
      "  name color\n",
      "0   小黑     黑\n",
      "1   小白     白\n",
      "\n",
      "df2=\n",
      "  name color\n",
      "0   小黑     黑\n",
      "1   小白     白\n",
      "\n",
      "行合并结果为\n",
      "df_concat=\n",
      "  name color\n",
      "0   小明     蓝\n",
      "1   小红     红\n",
      "0   小黑     黑\n",
      "1   小白     白\n"
     ]
    }
   ],
   "source": [
    "# axis=0 行合并\n",
    "import pandas as pd\n",
    "\n",
    "df1 = pd.DataFrame({'name': ['小明', '小红'], 'color': ['蓝', '红']})\n",
    "df2 = pd.DataFrame({'name': ['小黑', '小白'], 'color': ['黑', '白']})\n",
    "df_concat = pd.concat([df1, df2], axis=0)\n",
    "\n",
    "print('df1=')\n",
    "print(df2)\n",
    "print()\n",
    "print('df2=')\n",
    "print(df2)\n",
    "print()\n",
    "print('行合并结果为')\n",
    "print('df_concat=')\n",
    "print(df_concat)"
   ]
  },
  {
   "cell_type": "code",
   "execution_count": 3,
   "metadata": {},
   "outputs": [
    {
     "name": "stdout",
     "output_type": "stream",
     "text": [
      "df1=\n",
      "  name color\n",
      "0   小黑     黑\n",
      "1   小白     白\n",
      "\n",
      "df2=\n",
      "   Age\n",
      "0   10\n",
      "1   10\n",
      "\n",
      "列合并结果为\n",
      "df_concat=\n",
      "  name color  Age\n",
      "0   小黑     黑   10\n",
      "1   小白     白   10\n"
     ]
    }
   ],
   "source": [
    "# axis=1 列合并\n",
    "import pandas as pd\n",
    "\n",
    "df1 = pd.DataFrame({'name': ['小黑', '小白'], 'color': ['黑', '白']})\n",
    "df2 = pd.DataFrame({'Age': [10, 10]})\n",
    "df_concat = pd.concat([df1, df2], axis=1)\n",
    "\n",
    "print('df1=')\n",
    "print(df1)\n",
    "print()\n",
    "print('df2=')\n",
    "print(df2)\n",
    "print()\n",
    "print('列合并结果为')\n",
    "print('df_concat=')\n",
    "print(df_concat)"
   ]
  },
  {
   "cell_type": "markdown",
   "metadata": {},
   "source": [
    "### copy函数\n",
    "copy函数的参数deep=False时为浅复制，deep=True时为深复制。原来网上是说deep=False为默认值，但是个人实践发现，在python3.8版本下，deep=True为默认值。"
   ]
  },
  {
   "cell_type": "code",
   "execution_count": 4,
   "metadata": {},
   "outputs": [
    {
     "name": "stdout",
     "output_type": "stream",
     "text": [
      "原来df=\n",
      "   a  b\n",
      "0  1  3\n",
      "1  2  4\n",
      "然后用不同方式复制df....然后更改df.....\n",
      "更改后的df=\n",
      "    a  b\n",
      "0  10  3\n",
      "1   2  4\n",
      "深复制得到df_True=\n",
      "   a  b\n",
      "0  1  3\n",
      "1  2  4\n",
      "浅复制得到df_False=\n",
      "    a  b\n",
      "0  10  3\n",
      "1   2  4\n",
      "默认复制(深复制)的得到的df_Default=\n",
      "   a  b\n",
      "0  1  3\n",
      "1  2  4\n"
     ]
    }
   ],
   "source": [
    "df = pd.DataFrame({'a':[1, 2], 'b':[3, 4]})\n",
    "print('原来df=')\n",
    "print(df)\n",
    "print('然后用不同方式复制df....然后更改df.....')\n",
    "df_True = df.copy(deep=True)\n",
    "df_False = df.copy(deep=False)\n",
    "df_Default = df.copy()\n",
    "df['a'][0] = 10\n",
    "print('更改后的df=')\n",
    "print(df)\n",
    "print('深复制得到df_True=')\n",
    "print(df_True)\n",
    "print('浅复制得到df_False=')\n",
    "print(df_False)\n",
    "print('默认复制(深复制)的得到的df_Default=')\n",
    "print(df_Default)"
   ]
  },
  {
   "cell_type": "markdown",
   "metadata": {},
   "source": [
    "## sklearn 知识点"
   ]
  },
  {
   "cell_type": "markdown",
   "metadata": {},
   "source": [
    "### 转换器"
   ]
  },
  {
   "cell_type": "markdown",
   "metadata": {},
   "source": [
    "#### 为什么要转换器\n",
    "&emsp; sklearn中的转换器是什么的呢？假设目前这个场景，你想对测试集上输入部分做同训练集一样归一化的处理($x' = \\frac{x-min}{max-min}$)，那么一般会这样做。"
   ]
  },
  {
   "cell_type": "code",
   "execution_count": 5,
   "metadata": {},
   "outputs": [
    {
     "name": "stdout",
     "output_type": "stream",
     "text": [
      "训练集X_train=\n",
      "[[1. 2.]\n",
      " [3. 4.]]\n",
      "训练集X_train的第0列的最大值为3.0, 最小值为1.0\n",
      "训练集X_train的第1列的最大值为4.0, 最小值为2.0\n",
      "归一化后的训练集为X_train=\n",
      "[[0. 0.]\n",
      " [1. 1.]]\n"
     ]
    }
   ],
   "source": [
    "import numpy as np\n",
    "#自定义训练集和测试集\n",
    "X_train = np.array([[1, 2], [3, 4]], dtype='float')\n",
    "X_test = np.array([[2, 2], [3, 3]], dtype='float')\n",
    "#训练集每列的最大最小值\n",
    "min0, max0 = min(X_train[:, 0]), max(X_train[:, 0])\n",
    "min1, max1 = min(X_train[:, 1]), max(X_train[:, 1])\n",
    "print('训练集X_train=')\n",
    "print(X_train)\n",
    "print('训练集X_train的第0列的最大值为{}, 最小值为{}'.format(max0, min0))\n",
    "print('训练集X_train的第1列的最大值为{}, 最小值为{}'.format(max1, min1))\n",
    "#对训练集进行归一化处理\n",
    "for i in range(X_train.shape[0]):\n",
    "    for j in range(X_train.shape[1]):\n",
    "        if j == 0:\n",
    "            X_train[i][j] = (X_train[i][j] - min0) / (max0 - min0)\n",
    "        else:\n",
    "            X_train[i][j] = (X_train[i][j] - min1) / (max1 - min1)\n",
    "print('归一化后的训练集为X_train=')\n",
    "print(X_train)"
   ]
  },
  {
   "cell_type": "code",
   "execution_count": 6,
   "metadata": {},
   "outputs": [
    {
     "name": "stdout",
     "output_type": "stream",
     "text": [
      "原测试集X_test=\n",
      "[[2. 2.]\n",
      " [3. 3.]]\n",
      "2.0\n",
      "3.0\n",
      "归一化后的测试集X_test=\n",
      "[[0.5 0. ]\n",
      " [1.  0.5]]\n"
     ]
    }
   ],
   "source": [
    "#再对测试集做相同的处理\n",
    "print('原测试集X_test=')\n",
    "print(X_test)\n",
    "for i in range(X_test.shape[0]):\n",
    "    for j in range(X_test.shape[1]):\n",
    "        if j == 0:\n",
    "            X_test[i][j] = (X_test[i][j] - min0) / (max0 - min0)\n",
    "        else:\n",
    "            print(X_test[i][j])\n",
    "            X_test[i][j] = (X_test[i][j] - min1)  / (max1 - min1) \n",
    "print('归一化后的测试集X_test=')\n",
    "print(X_test)"
   ]
  },
  {
   "cell_type": "markdown",
   "metadata": {},
   "source": [
    "可以看到，上面对测试集归一化非常的麻烦，并且我们还需要记录下训练集的最大最小值，所以sklearn中使用了转换器来简略操作。"
   ]
  },
  {
   "cell_type": "code",
   "execution_count": 7,
   "metadata": {},
   "outputs": [
    {
     "name": "stdout",
     "output_type": "stream",
     "text": [
      "[[0.5 0. ]\n",
      " [1.  0.5]]\n"
     ]
    }
   ],
   "source": [
    "import numpy as np\n",
    "from sklearn.preprocessing import MinMaxScaler\n",
    "#自定义训练集和测试集\n",
    "X_train = np.array([[1, 2], [3, 4]], dtype='float')\n",
    "X_test = np.array([[2, 2], [3, 3]], dtype='float')\n",
    "ms = MinMaxScaler()\n",
    "ms.fit(X_train)\n",
    "X_test = ms.transform(X_test)\n",
    "print(X_test)"
   ]
  },
  {
   "cell_type": "markdown",
   "metadata": {},
   "source": [
    "&emsp; 在这里其中转换器的fit操作相当于记录训练集中每一列的极值并保存起来，transform函数就相当于用保存的极值对测试集进行归一化"
   ]
  },
  {
   "cell_type": "markdown",
   "metadata": {},
   "source": [
    "#### 自定义转换器\n",
    "虽然sklearn提供转换器可以满足大多数问题的需要，但是总会遇到已有转换器无法解决的问题，所以我们需要自定义转换器。\n",
    "下面我们来制作和MinMaxScaler转换器一样功能的转换器"
   ]
  },
  {
   "cell_type": "code",
   "execution_count": 8,
   "metadata": {},
   "outputs": [
    {
     "name": "stdout",
     "output_type": "stream",
     "text": [
      "[[0.5 0. ]\n",
      " [1.  0.5]]\n"
     ]
    }
   ],
   "source": [
    "import numpy as np\n",
    "import pandas as pd\n",
    "#导入自定义转换器所需要的基类\n",
    "from sklearn.base import BaseEstimator, TransformerMixin\n",
    "#定义自定义转换器，重写fit和transform函数\n",
    "class MyMinMaxScaler(BaseEstimator, TransformerMixin):\n",
    "    def fit(self, X, y=None):\n",
    "        self.min = np.min(X, axis=0)\n",
    "        self.max = np.max(X, axis=0)\n",
    "        return self\n",
    "    def transform(self, X, y=None):\n",
    "        X = X.copy()\n",
    "        return (X-self.min) / (self.max-self.min)\n",
    "    \n",
    "X_train = np.array([[1, 2], [3, 4]], dtype='float')\n",
    "X_test = np.array([[2, 2], [3, 3]], dtype='float')\n",
    "\n",
    "ms = MyMinMaxScaler()\n",
    "ms.fit(X_train)\n",
    "X_test = ms.transform(X_test)\n",
    "print(X_test)"
   ]
  },
  {
   "cell_type": "markdown",
   "metadata": {},
   "source": [
    "### 估计器\n",
    "&emsp; 估计器是sklearn提供的应一个强大的类，它封装了某个模型，比如决策树模型、贝叶斯模型，使用者可以创建估计器对象创建模型，调用fit方法训练模型，调用predict或者predict_proba来预测结果。例如:\n",
    "```python\n",
    "import sklearn.tree as tree\n",
    "#创建模型\n",
    "clf = tree.DecisionTreeClassifier()\n",
    "#训练模型\n",
    "clf.fit(X_train)\n",
    "#预测结果\n",
    "clf.predict(X_test)\n",
    "```"
   ]
  },
  {
   "cell_type": "markdown",
   "metadata": {},
   "source": [
    "### 管道"
   ]
  },
  {
   "cell_type": "markdown",
   "metadata": {},
   "source": [
    "#### 连接n个转换器\n",
    "注意:连接n个转换器后得到的管道视为一个转换器;</br>\n",
    "举个例子假设目前我们有两个转换器，我们会这样使用"
   ]
  },
  {
   "cell_type": "code",
   "execution_count": 9,
   "metadata": {},
   "outputs": [
    {
     "name": "stdout",
     "output_type": "stream",
     "text": [
      "[[0.5        0.         0.        ]\n",
      " [0.         0.         0.        ]\n",
      " [1.         0.66666667 0.        ]]\n"
     ]
    }
   ],
   "source": [
    "import numpy as np\n",
    "from sklearn.impute import SimpleImputer\n",
    "from sklearn.preprocessing import MinMaxScaler\n",
    "from sklearn.pipeline import Pipeline\n",
    "\n",
    "# 自定义训练集、测试集\n",
    "X_train = np.array([[1, np.nan, 3],[np.nan, 2, 3],[3, 5, np.nan]])\n",
    "X_test = np.array([[2, np.nan, 3],[np.nan, 2, 3],[3, 4, np.nan]])\n",
    "\n",
    "#定义转换器\n",
    "imputer = SimpleImputer(strategy='most_frequent')\n",
    "scaler = MinMaxScaler()\n",
    "\n",
    "#通过训练集获取转换器关键参数\n",
    "X_train_1 = imputer.fit_transform(X_train)\n",
    "scaler.fit(X_train_1)\n",
    "\n",
    "#对测试集做相同处理\n",
    "X_test_1 = imputer.transform(X_test)\n",
    "X_test_2 = scaler.transform(X_test_1)\n",
    "print(X_test_2)"
   ]
  },
  {
   "cell_type": "markdown",
   "metadata": {},
   "source": [
    "同样这里比较麻烦，可以用Pipeline对象将多个转换器连接起来，起到一个转换器的效果"
   ]
  },
  {
   "cell_type": "code",
   "execution_count": 10,
   "metadata": {
    "scrolled": true
   },
   "outputs": [
    {
     "name": "stdout",
     "output_type": "stream",
     "text": [
      "[[0.5        0.         0.        ]\n",
      " [0.         0.         0.        ]\n",
      " [1.         0.66666667 0.        ]]\n"
     ]
    }
   ],
   "source": [
    "# 自定义训练集、测试集\n",
    "X_train = np.array([[1, np.nan, 3],[np.nan, 2, 3],[3, 5, np.nan]])\n",
    "X_test = np.array([[2, np.nan, 3],[np.nan, 2, 3],[3, 4, np.nan]])\n",
    "\n",
    "pipeline = Pipeline(steps=[\n",
    "    ('imputer', SimpleImputer(strategy='most_frequent')),\n",
    "    ('scaler', MinMaxScaler())\n",
    "])\n",
    "\n",
    "pipeline.fit(X_train)\n",
    "X_test_ = pipeline.transform(X_test)\n",
    "print(X_test_)"
   ]
  },
  {
   "cell_type": "markdown",
   "metadata": {},
   "source": [
    "####  连接n个转换器和1个评估器\n",
    "注意:连接n个转换器和1个评估器得到的管道视为一个评估器\n",
    "\n",
    "调用fit函数会依次调用转换器的fit_transform函数，最后在调用估计器的fit函数进行训练\n",
    "调用predict或者predict_proba函数则是会依次调用转换器的transform函数对测试集做和训练集相同的处理，最后在调用估计器的predict或predict_proba函数进行预测"
   ]
  }
 ],
 "metadata": {
  "kernelspec": {
   "display_name": "Python 3",
   "language": "python",
   "name": "python3"
  },
  "language_info": {
   "codemirror_mode": {
    "name": "ipython",
    "version": 3
   },
   "file_extension": ".py",
   "mimetype": "text/x-python",
   "name": "python",
   "nbconvert_exporter": "python",
   "pygments_lexer": "ipython3",
   "version": "3.8.6"
  }
 },
 "nbformat": 4,
 "nbformat_minor": 4
}
